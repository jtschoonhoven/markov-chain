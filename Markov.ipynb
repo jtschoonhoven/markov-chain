{
 "metadata": {
  "name": "",
  "signature": "sha256:ce27476bdc106f3ad8de62dc08614498dcf1c562a6dc2339d8da71b3b8dfa37c"
 },
 "nbformat": 3,
 "nbformat_minor": 0,
 "worksheets": [
  {
   "cells": [
    {
     "cell_type": "code",
     "collapsed": false,
     "input": [
      "# Based on agiliq.com/blog/2009/06/generating-pseudo-random-text-with-markov-chains-u/\n",
      "import pykov"
     ],
     "language": "python",
     "metadata": {},
     "outputs": [],
     "prompt_number": 251
    },
    {
     "cell_type": "code",
     "collapsed": false,
     "input": [
      "class Markov:\n",
      "    def __init__(self, file_location, phrase_len):\n",
      "        self.phrase_len = phrase_len\n",
      "        words = self.open_file(file_location)\n",
      "        phrase_dict = self.make_phrases(words)\n",
      "        self.chain = self.map_chain(phrase_dict)\n",
      "    \n",
      "    def open_file(self, file_location):\n",
      "        text = open(file_location).read() #.decode('UTF-8', 'string-escape')\n",
      "        words = text.split()\n",
      "        return words\n",
      "    \n",
      "    def make_phrases(self, words):\n",
      "        phrase_dict = {}\n",
      "        for index, word in enumerate(words[:len(words)-self.phrase_len]):\n",
      "            phrase = tuple(words[index : (index + self.phrase_len)])\n",
      "            next_word = words[index + self.phrase_len]\n",
      "            if phrase not in phrase_dict:\n",
      "                phrase_dict[phrase] = { next_word: 1 }\n",
      "            else:\n",
      "                if next_word not in phrase_dict[phrase]:\n",
      "                    phrase_dict[phrase][next_word] = 1\n",
      "                else:\n",
      "                    phrase_dict[phrase][next_word] += 1\n",
      "        return phrase_dict\n",
      "                    \n",
      "    def map_chain(self, phrase_dict):\n",
      "        mapping = {}\n",
      "        for phrase in phrase_dict:\n",
      "            next_words = phrase_dict[phrase]\n",
      "            vector = pykov.Vector(next_words)\n",
      "            vector.normalize()\n",
      "            for word in vector:\n",
      "                p = vector[word]\n",
      "                tup = (phrase, word)\n",
      "                mapping[tup] = p\n",
      "        return pykov.Chain(mapping)\n",
      "        \n",
      "    def write(self, opening_remarks, word_count):\n",
      "        chain = self.chain\n",
      "        output_list = []\n",
      "        seed = opening_remarks.split()\n",
      "        output_list.append(seed)\n",
      "        this_word = tuple(seed[len(seed)-self.phrase_len:])\n",
      "        for i in range(word_count):\n",
      "            next_word = chain.move(this_word)\n",
      "            output_list.append(next_word)\n",
      "            this_word = next_word\n",
      "        print output_list\n"
     ],
     "language": "python",
     "metadata": {},
     "outputs": [],
     "prompt_number": 303
    },
    {
     "cell_type": "code",
     "collapsed": false,
     "input": [
      "m = Markov('/Users/jonathanschoonhoven/Desktop/ummm.txt', 1)\n",
      "m.write('THE LOVE', 4)"
     ],
     "language": "python",
     "metadata": {},
     "outputs": [
      {
       "ename": "KeyError",
       "evalue": "('A', 'N', 'D')",
       "output_type": "pyerr",
       "traceback": [
        "\u001b[0;31m---------------------------------------------------------------------------\u001b[0m\n\u001b[0;31mKeyError\u001b[0m                                  Traceback (most recent call last)",
        "\u001b[0;32m<ipython-input-304-9bf1f2a7fa87>\u001b[0m in \u001b[0;36m<module>\u001b[0;34m()\u001b[0m\n\u001b[1;32m      1\u001b[0m \u001b[0mm\u001b[0m \u001b[0;34m=\u001b[0m \u001b[0mMarkov\u001b[0m\u001b[0;34m(\u001b[0m\u001b[0;34m'/Users/jonathanschoonhoven/Desktop/ummm.txt'\u001b[0m\u001b[0;34m,\u001b[0m \u001b[0;36m1\u001b[0m\u001b[0;34m)\u001b[0m\u001b[0;34m\u001b[0m\u001b[0m\n\u001b[0;32m----> 2\u001b[0;31m \u001b[0mm\u001b[0m\u001b[0;34m.\u001b[0m\u001b[0mwrite\u001b[0m\u001b[0;34m(\u001b[0m\u001b[0;34m'THE LOVE'\u001b[0m\u001b[0;34m,\u001b[0m \u001b[0;36m4\u001b[0m\u001b[0;34m)\u001b[0m\u001b[0;34m\u001b[0m\u001b[0m\n\u001b[0m",
        "\u001b[0;32m<ipython-input-303-50d1b1e4241f>\u001b[0m in \u001b[0;36mwrite\u001b[0;34m(self, opening_remarks, word_count)\u001b[0m\n\u001b[1;32m     44\u001b[0m         \u001b[0mthis_word\u001b[0m \u001b[0;34m=\u001b[0m \u001b[0mtuple\u001b[0m\u001b[0;34m(\u001b[0m\u001b[0mseed\u001b[0m\u001b[0;34m[\u001b[0m\u001b[0mlen\u001b[0m\u001b[0;34m(\u001b[0m\u001b[0mseed\u001b[0m\u001b[0;34m)\u001b[0m\u001b[0;34m-\u001b[0m\u001b[0mself\u001b[0m\u001b[0;34m.\u001b[0m\u001b[0mphrase_len\u001b[0m\u001b[0;34m:\u001b[0m\u001b[0;34m]\u001b[0m\u001b[0;34m)\u001b[0m\u001b[0;34m\u001b[0m\u001b[0m\n\u001b[1;32m     45\u001b[0m         \u001b[0;32mfor\u001b[0m \u001b[0mi\u001b[0m \u001b[0;32min\u001b[0m \u001b[0mrange\u001b[0m\u001b[0;34m(\u001b[0m\u001b[0mword_count\u001b[0m\u001b[0;34m)\u001b[0m\u001b[0;34m:\u001b[0m\u001b[0;34m\u001b[0m\u001b[0m\n\u001b[0;32m---> 46\u001b[0;31m             \u001b[0mnext_word\u001b[0m \u001b[0;34m=\u001b[0m \u001b[0mchain\u001b[0m\u001b[0;34m.\u001b[0m\u001b[0mmove\u001b[0m\u001b[0;34m(\u001b[0m\u001b[0mtuple\u001b[0m\u001b[0;34m(\u001b[0m\u001b[0mthis_word\u001b[0m\u001b[0;34m)\u001b[0m\u001b[0;34m)\u001b[0m\u001b[0;34m\u001b[0m\u001b[0m\n\u001b[0m\u001b[1;32m     47\u001b[0m             \u001b[0moutput_list\u001b[0m\u001b[0;34m.\u001b[0m\u001b[0mappend\u001b[0m\u001b[0;34m(\u001b[0m\u001b[0mnext_word\u001b[0m\u001b[0;34m)\u001b[0m\u001b[0;34m\u001b[0m\u001b[0m\n\u001b[1;32m     48\u001b[0m             \u001b[0mthis_word\u001b[0m \u001b[0;34m=\u001b[0m \u001b[0mnext_word\u001b[0m\u001b[0;34m\u001b[0m\u001b[0m\n",
        "\u001b[0;32m/usr/local/lib/python2.7/site-packages/pykov.pyc\u001b[0m in \u001b[0;36mmove\u001b[0;34m(self, state)\u001b[0m\n\u001b[1;32m    886\u001b[0m         \u001b[0;34m'B'\u001b[0m\u001b[0;34m\u001b[0m\u001b[0m\n\u001b[1;32m    887\u001b[0m         \"\"\"\n\u001b[0;32m--> 888\u001b[0;31m         \u001b[0;32mreturn\u001b[0m \u001b[0mself\u001b[0m\u001b[0;34m.\u001b[0m\u001b[0msucc\u001b[0m\u001b[0;34m(\u001b[0m\u001b[0mstate\u001b[0m\u001b[0;34m)\u001b[0m\u001b[0;34m.\u001b[0m\u001b[0mchoose\u001b[0m\u001b[0;34m(\u001b[0m\u001b[0;34m)\u001b[0m\u001b[0;34m\u001b[0m\u001b[0m\n\u001b[0m\u001b[1;32m    889\u001b[0m \u001b[0;34m\u001b[0m\u001b[0m\n\u001b[1;32m    890\u001b[0m     \u001b[0;32mdef\u001b[0m \u001b[0mpow\u001b[0m\u001b[0;34m(\u001b[0m\u001b[0mself\u001b[0m\u001b[0;34m,\u001b[0m \u001b[0mp\u001b[0m\u001b[0;34m,\u001b[0m \u001b[0mn\u001b[0m\u001b[0;34m)\u001b[0m\u001b[0;34m:\u001b[0m\u001b[0;34m\u001b[0m\u001b[0m\n",
        "\u001b[0;32m/usr/local/lib/python2.7/site-packages/pykov.pyc\u001b[0m in \u001b[0;36msucc\u001b[0;34m(self, key)\u001b[0m\n\u001b[1;32m    667\u001b[0m         \u001b[0;32mtry\u001b[0m\u001b[0;34m:\u001b[0m\u001b[0;34m\u001b[0m\u001b[0m\n\u001b[1;32m    668\u001b[0m             \u001b[0;32mif\u001b[0m \u001b[0mkey\u001b[0m \u001b[0;32mis\u001b[0m \u001b[0;32mnot\u001b[0m \u001b[0mNone\u001b[0m\u001b[0;34m:\u001b[0m\u001b[0;34m\u001b[0m\u001b[0m\n\u001b[0;32m--> 669\u001b[0;31m                 \u001b[0;32mreturn\u001b[0m \u001b[0mself\u001b[0m\u001b[0;34m.\u001b[0m\u001b[0m_succ\u001b[0m\u001b[0;34m[\u001b[0m\u001b[0mkey\u001b[0m\u001b[0;34m]\u001b[0m\u001b[0;34m\u001b[0m\u001b[0m\n\u001b[0m\u001b[1;32m    670\u001b[0m             \u001b[0;32melse\u001b[0m\u001b[0;34m:\u001b[0m\u001b[0;34m\u001b[0m\u001b[0m\n\u001b[1;32m    671\u001b[0m                 \u001b[0;32mreturn\u001b[0m \u001b[0mself\u001b[0m\u001b[0;34m.\u001b[0m\u001b[0m_succ\u001b[0m\u001b[0;34m\u001b[0m\u001b[0m\n",
        "\u001b[0;31mKeyError\u001b[0m: ('A', 'N', 'D')"
       ]
      }
     ],
     "prompt_number": 304
    },
    {
     "cell_type": "code",
     "collapsed": false,
     "input": [],
     "language": "python",
     "metadata": {},
     "outputs": [],
     "prompt_number": 194
    },
    {
     "cell_type": "code",
     "collapsed": false,
     "input": [],
     "language": "python",
     "metadata": {},
     "outputs": [
      {
       "output_type": "stream",
       "stream": "stdout",
       "text": [
        "2\n"
       ]
      }
     ],
     "prompt_number": 110
    },
    {
     "cell_type": "code",
     "collapsed": false,
     "input": [],
     "language": "python",
     "metadata": {},
     "outputs": []
    }
   ],
   "metadata": {}
  }
 ]
}